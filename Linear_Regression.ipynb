{
 "cells": [
  {
   "cell_type": "code",
   "execution_count": 1,
   "metadata": {},
   "outputs": [],
   "source": [
    "import numpy as np\n",
    "from sklearn.datasets import load_boston\n",
    "from sklearn.linear_model import LinearRegression\n",
    "from sklearn.model_selection import train_test_split\n",
    "from sklearn.metrics import mean_squared_error\n",
    "from sklearn.preprocessing import StandardScaler\n",
    "import matplotlib.pyplot as plt"
   ]
  },
  {
   "cell_type": "markdown",
   "metadata": {},
   "source": [
    "# Bộ dữ liệu tự tạo: hàm y = -3x + 5"
   ]
  },
  {
   "cell_type": "code",
   "execution_count": 2,
   "metadata": {},
   "outputs": [
    {
     "data": {
      "image/png": "[encoded data removed]",
      "text/plain": [
       "<Figure size 432x288 with 1 Axes>"
      ]
     },
     "metadata": {
      "needs_background": "light"
     },
     "output_type": "display_data"
    }
   ],
   "source": [
    "'''\n",
    "Bộ dữ liệu thứ 1 random\n",
    "'''\n",
    "np.random.seed(2)\n",
    "X = np.random.rand(300, 1)\n",
    "y = -3 * X + 5 + 0.3*np.random.randn(300, 1) # thêm nhiễu vào\n",
    "# Visualize data \n",
    "plt.plot(X, y, 'bo')\n",
    "plt.xlabel('x')\n",
    "plt.ylabel('y')\n",
    "plt.show()"
   ]
  },
  {
   "cell_type": "markdown",
   "metadata": {},
   "source": [
    "## 1. Chia dữ liệu train - test"
   ]
  },
  {
   "cell_type": "code",
   "execution_count": 3,
   "metadata": {},
   "outputs": [
    {
     "name": "stdout",
     "output_type": "stream",
     "text": [
      "(225, 1)\n",
      "(75, 1)\n",
      "(225, 1)\n",
      "(75, 1)\n"
     ]
    }
   ],
   "source": [
    "X_train, X_test, y_train, y_test = train_test_split(X, y)\n",
    "\n",
    "print(X_train.shape)\n",
    "print(X_test.shape)\n",
    "print(y_train.shape)\n",
    "print(y_test.shape)"
   ]
  },
  {
   "cell_type": "markdown",
   "metadata": {},
   "source": [
    "## 2. Sử dụng tool"
   ]
  },
  {
   "cell_type": "code",
   "execution_count": 4,
   "metadata": {},
   "outputs": [
    {
     "data": {
      "text/plain": [
       "LinearRegression(copy_X=True, fit_intercept=True, n_jobs=None, normalize=False)"
      ]
     },
     "execution_count": 4,
     "metadata": {},
     "output_type": "execute_result"
    }
   ],
   "source": [
    "# sử dụng model LinearRegresion từ thư viện Sklearn\n",
    "model = LinearRegression()\n",
    "# thực hiện train dữ liệu trên tập train\n",
    "model.fit(X_train, y_train)"
   ]
  },
  {
   "cell_type": "code",
   "execution_count": 5,
   "metadata": {},
   "outputs": [
    {
     "data": {
      "text/plain": [
       "0.0912889743008689"
      ]
     },
     "execution_count": 5,
     "metadata": {},
     "output_type": "execute_result"
    }
   ],
   "source": [
    "# thực hiện dự đoán trên tập test\n",
    "y_hat = model.predict(X_test)\n",
    "# hiển thị MSE của dự đoán so với label\n",
    "mean_squared_error(y_test, y_hat)"
   ]
  },
  {
   "cell_type": "code",
   "execution_count": 6,
   "metadata": {},
   "outputs": [
    {
     "data": {
      "image/png": "[encoded data removed]",
      "text/plain": [
       "<Figure size 432x288 with 1 Axes>"
      ]
     },
     "metadata": {
      "needs_background": "light"
     },
     "output_type": "display_data"
    }
   ],
   "source": [
    "# Vẽ đồ thị dữ liệu test (xanh) và đường dự đoán (đỏ)\n",
    "plt.scatter(X_test, y_test)\n",
    "plt.plot(X_test, y_hat, 'r')\n",
    "plt.xlabel('x')\n",
    "plt.ylabel('y')\n",
    "plt.show()"
   ]
  },
  {
   "cell_type": "code",
   "execution_count": 7,
   "metadata": {},
   "outputs": [
    {
     "name": "stdout",
     "output_type": "stream",
     "text": [
      "[[-2.94802998]] [4.95850025]\n"
     ]
    }
   ],
   "source": [
    "# in weight học được w1, w0\n",
    "print(model.coef_, model.intercept_)"
   ]
  },
  {
   "cell_type": "markdown",
   "metadata": {},
   "source": [
    "## 3. My Gradient Descent Linear Regression"
   ]
  },
  {
   "cell_type": "code",
   "execution_count": 8,
   "metadata": {},
   "outputs": [],
   "source": [
    "class GDLinearRegression:\n",
    "    def __init__(self, lr, step):\n",
    "        '''\n",
    "        Khởi tạo learning rate và số lượng step update weigh\n",
    "        '''\n",
    "        self.lr = lr\n",
    "        self.step = step\n",
    "        \n",
    "    def fit(self, X, y):\n",
    "        ''' \n",
    "        Train the model với đầu vào là tập train data X cùng nhãn Y\n",
    "        X là ma trận MxN trong đó M là số lượng điểm dữ liệu, mỗi điểm dữ liệu có N chiều.\n",
    "        Trường hợp dữ liệu 1 chiều thì X là vector cột Mx1\n",
    "        '''\n",
    "        # lấy ra số lượng điểm train_size và số chiều dữ liệu n_features\n",
    "        self.n_features = X.shape[1] if len(X.shape) > 1 else 1 \n",
    "        train_size = len(X) # số lượng sample\n",
    "        \n",
    "        # chuẩn hóa lại định dạng dữ liệu\n",
    "        X = X.reshape(-1, self.n_features)\n",
    "        y = y.reshape([-1, 1])\n",
    "        \n",
    "        # ta muốn thực hiện dự đoán y = X.T*W + bias, ta đưa bias vào W (W|bias) và 1 cột toàn 1 vào X (X|one),\n",
    "        # lúc đó việc tính toán thuận tiện hơn y = (X|one).T*(W|bias) => đây là trick để tính toán cho nhanh\n",
    "        one = np.ones([train_size, 1])\n",
    "        X = np.concatenate([X, one], 1)\n",
    "        \n",
    "        # tạo weight chính là parameters ta sẽ optimize trong quá trình train\n",
    "        self.weight = np.zeros([self.n_features + 1, 1])\n",
    "        print('x shape: ', X.shape, '- y shape: ', y.shape, '- weight shape: ', self.weight.shape, 'train_size: ', train_size)\n",
    "        \n",
    "        # mảng lưu lại toàn bộ giá trị loss trong quá trình train\n",
    "        self.train_loss = []\n",
    "        \n",
    "        # train\n",
    "        for i in range(self.step):\n",
    "            \n",
    "            loss = np.sum((y - np.dot(X, self.weight)) ** 2)\n",
    "            delta = np.dot(X.T, ( np.dot(X, self.weight) - y))\n",
    "            \n",
    "            # update weight\n",
    "            self.weight = self.weight - (self.lr/train_size) * delta\n",
    "            \n",
    "            # tính trung bình loss\n",
    "            loss = loss/train_size\n",
    "            self.train_loss.append(loss.item())\n",
    "    \n",
    "    def predict(self, X):\n",
    "        '''\n",
    "        Thực hiện dự đoán\n",
    "        '''\n",
    "        # chuẩn hóa format dữ liệu như ta đã làm trong lúc train\n",
    "        X = X.reshape(-1, self.n_features)\n",
    "        \n",
    "        # thêm cột one như ta đã làm trong lúc train\n",
    "        one = np.ones([len(X), 1])\n",
    "        X = np.concatenate([X, one], 1)\n",
    "        \n",
    "        # thực hiện dự đoán, đơn giản là nhân ma trận\n",
    "        y_hat = np.dot(X, self.weight)\n",
    "        \n",
    "        return y_hat\n",
    "    \n",
    "    def print_weight(self):\n",
    "        '''\n",
    "        In weigt đã học được\n",
    "        '''\n",
    "        print(self.weight)\n",
    "        \n",
    "    def get_train_loss(self):\n",
    "        '''\n",
    "        Trả về train loss đã lưu trong quá trình train\n",
    "        '''\n",
    "        return self.train_loss\n",
    "    "
   ]
  },
  {
   "cell_type": "code",
   "execution_count": 9,
   "metadata": {},
   "outputs": [
    {
     "name": "stdout",
     "output_type": "stream",
     "text": [
      "x shape:  (75, 2) - y shape:  (75, 1) - weight shape:  (2, 1) train_size:  75\n"
     ]
    }
   ],
   "source": [
    "model = GDLinearRegression(0.1, 1000)\n",
    "model.fit(X_test, y_test)"
   ]
  },
  {
   "cell_type": "code",
   "execution_count": 10,
   "metadata": {},
   "outputs": [
    {
     "data": {
      "image/png": "[encoded data removed]",
      "text/plain": [
       "<Figure size 432x288 with 1 Axes>"
      ]
     },
     "metadata": {
      "needs_background": "light"
     },
     "output_type": "display_data"
    },
    {
     "name": "stdout",
     "output_type": "stream",
     "text": [
      "last loss:  0.0889458013624803\n"
     ]
    }
   ],
   "source": [
    "train_loss = model.get_train_loss()\n",
    "\n",
    "plt.plot(range(len(train_loss)), train_loss)\n",
    "plt.title(\"training loss\")\n",
    "plt.xlabel(\"Step\")\n",
    "plt.ylabel(\"loss\")\n",
    "plt.show()\n",
    "print(\"last loss: \", train_loss[-1])"
   ]
  },
  {
   "cell_type": "code",
   "execution_count": 11,
   "metadata": {},
   "outputs": [
    {
     "data": {
      "image/png": "[encoded data removed]",
      "text/plain": [
       "<Figure size 432x288 with 1 Axes>"
      ]
     },
     "metadata": {
      "needs_background": "light"
     },
     "output_type": "display_data"
    }
   ],
   "source": [
    "y_hat = model.predict(X_test)\n",
    "\n",
    "plt.scatter(X_test, y_test)\n",
    "plt.plot(X_test, y_hat, 'r')\n",
    "plt.xlabel('x')\n",
    "plt.ylabel('y')\n",
    "# plt.title('y=-3x+5')\n",
    "plt.show()"
   ]
  },
  {
   "cell_type": "code",
   "execution_count": 12,
   "metadata": {},
   "outputs": [
    {
     "name": "stdout",
     "output_type": "stream",
     "text": [
      "[[-3.10999554]\n",
      " [ 5.05090582]]\n"
     ]
    }
   ],
   "source": [
    "# kiểm tra lại weight đã học được, khá gần với hệ số trong hàm số y = -3x + 5\n",
    "model.print_weight()"
   ]
  },
  {
   "cell_type": "markdown",
   "metadata": {},
   "source": [
    "# Bộ dữ liệu thực tế - giá nhà Boston\n",
    "Chú ý, việc lấy data ra như thế này là kết quả của việc xem xét kỹ lưỡng dataset Boston. Ở ví dụ này, chỉ lấy 1 đặc điểm nhà trong số rất nhiều đặc điểm của nhà để dự đoán giá. Lý do là để thuận tiện cho việc vẽ đồ thị.\n",
    "\n",
    "$ \\hat{y} = bias + x*w $\n",
    "\n",
    "hàm số này có thể biểu diễn trên mặt phẳng 2D\n",
    "\n",
    "trong thực tế, ta có thể lấy nhiều đặc điểm hơn, lúc đó hàm dự đoán là hàm đa biến:\n",
    "\n",
    "$ \\hat{y}= bias + x*w_1 + x_2*w_2 + .. + x_n*w_n $"
   ]
  },
  {
   "cell_type": "code",
   "execution_count": 13,
   "metadata": {},
   "outputs": [
    {
     "data": {
      "image/png": "[encoded data removed]",
      "text/plain": [
       "<Figure size 432x288 with 1 Axes>"
      ]
     },
     "metadata": {
      "needs_background": "light"
     },
     "output_type": "display_data"
    }
   ],
   "source": [
    "boston_data = load_boston()\n",
    "X = boston_data.data[:, 5, np.newaxis]   # trường thứ 5 là RM (số phòng)\n",
    "y = boston_data.target[:, np.newaxis]    # taget là giá nhà\n",
    "\n",
    "# Visualize data \n",
    "plt.plot(X, y, 'bo')\n",
    "plt.xlabel('RM')\n",
    "plt.ylabel('PRICE')\n",
    "plt.show()"
   ]
  },
  {
   "cell_type": "markdown",
   "metadata": {},
   "source": [
    "## 1. Chia dữ liệu train - test"
   ]
  },
  {
   "cell_type": "code",
   "execution_count": 14,
   "metadata": {},
   "outputs": [
    {
     "name": "stdout",
     "output_type": "stream",
     "text": [
      "(379, 1)\n",
      "(127, 1)\n",
      "(379, 1)\n",
      "(127, 1)\n"
     ]
    }
   ],
   "source": [
    "# trước hết cần scale data để tránh trường hợp số lớn làm tràn phép tính\n",
    "scalerx = StandardScaler()\n",
    "scalery = StandardScaler()\n",
    "X_scaled = scalerx.fit_transform(X)\n",
    "y_scaled = scalery.fit_transform(y)\n",
    "\n",
    "# chia dữ liệu thành tập train và tập test\n",
    "X_train, X_test, y_train, y_test = train_test_split(X_scaled, y_scaled)\n",
    "\n",
    "print(X_train.shape)\n",
    "print(X_test.shape)\n",
    "print(y_train.shape)\n",
    "print(y_test.shape)"
   ]
  },
  {
   "cell_type": "markdown",
   "metadata": {},
   "source": [
    "## 2. Sử dụng tool"
   ]
  },
  {
   "cell_type": "code",
   "execution_count": 15,
   "metadata": {},
   "outputs": [
    {
     "data": {
      "text/plain": [
       "LinearRegression(copy_X=True, fit_intercept=True, n_jobs=None, normalize=False)"
      ]
     },
     "execution_count": 15,
     "metadata": {},
     "output_type": "execute_result"
    }
   ],
   "source": [
    "# lấy model LinearRegression từ thư viên SKlearn\n",
    "model = LinearRegression()\n",
    "# thực hiện train model trên tập train\n",
    "model.fit(X_train, y_train)"
   ]
  },
  {
   "cell_type": "code",
   "execution_count": 16,
   "metadata": {},
   "outputs": [
    {
     "name": "stdout",
     "output_type": "stream",
     "text": [
      "0.5487795792130881\n"
     ]
    }
   ],
   "source": [
    "# thực hiện train model trên tập test\n",
    "y_hat = model.predict(X_test)\n",
    "\n",
    "# tính sai số lỗi MSE của dự đoán so với thực tế trên tập test\n",
    "mse = mean_squared_error(y_hat, y_test)\n",
    "print(mse)"
   ]
  },
  {
   "cell_type": "code",
   "execution_count": 17,
   "metadata": {},
   "outputs": [
    {
     "data": {
      "image/png": "[encoded data removed]",
      "text/plain": [
       "<Figure size 432x288 with 1 Axes>"
      ]
     },
     "metadata": {
      "needs_background": "light"
     },
     "output_type": "display_data"
    }
   ],
   "source": [
    "# hiển thị đồ thị dữ liệu test (xanh) và đường dự đoán đã học được (đỏ)\n",
    "plt.scatter(scalerx.inverse_transform(X_test), scalery.inverse_transform(y_test))\n",
    "plt.plot(scalerx.inverse_transform(X_test), scalery.inverse_transform(y_hat), 'r')\n",
    "plt.xlabel('House feature: RM')\n",
    "plt.ylabel('Price')\n",
    "plt.show()"
   ]
  },
  {
   "cell_type": "code",
   "execution_count": 18,
   "metadata": {},
   "outputs": [
    {
     "name": "stdout",
     "output_type": "stream",
     "text": [
      "[[0.71904031]] [0.0025078]\n"
     ]
    }
   ],
   "source": [
    "# in weight w0, w1 mà model của sklearn đã học w1, w0\n",
    "print(model.coef_, model.intercept_)"
   ]
  },
  {
   "cell_type": "markdown",
   "metadata": {},
   "source": [
    "## 3. My Gradient Descent Linear Regression"
   ]
  },
  {
   "cell_type": "code",
   "execution_count": 19,
   "metadata": {},
   "outputs": [
    {
     "name": "stdout",
     "output_type": "stream",
     "text": [
      "x shape:  (379, 2) - y shape:  (379, 1) - weight shape:  (2, 1) train_size:  379\n"
     ]
    },
    {
     "data": {
      "image/png": "[encoded data removed]",
      "text/plain": [
       "<Figure size 432x288 with 1 Axes>"
      ]
     },
     "metadata": {
      "needs_background": "light"
     },
     "output_type": "display_data"
    }
   ],
   "source": [
    "# Ta đã thực hiện implement GDLinearRegression ở trên\n",
    "# Giờ ta chỉ việc tạo mới model với learning rate là 0.01 và \n",
    "# số lượng step là 1000\n",
    "mymodel = GDLinearRegression(0.01, 1000)\n",
    "# thực hiện train dữ liệu\n",
    "mymodel.fit(X_train, y_train)\n",
    "\n",
    "# vẽ biểu đồi training loss\n",
    "train_loss = mymodel.get_train_loss()\n",
    "plt.plot(range(len(train_loss)), train_loss)\n",
    "plt.xlabel('Step')\n",
    "plt.ylabel('Loss')\n",
    "plt.show()"
   ]
  },
  {
   "cell_type": "code",
   "execution_count": 20,
   "metadata": {},
   "outputs": [
    {
     "name": "stdout",
     "output_type": "stream",
     "text": [
      "Test MSE:  0.5487761484737099\n"
     ]
    }
   ],
   "source": [
    "# thực hiện dự đoán trên tập test\n",
    "y_hat = mymodel.predict(X_test)\n",
    "mse = mean_squared_error(y_hat, y_test)\n",
    "\n",
    "# in mean squared error trên tập test\n",
    "print('Test MSE: ', mse)\n"
   ]
  },
  {
   "cell_type": "code",
   "execution_count": 21,
   "metadata": {},
   "outputs": [
    {
     "data": {
      "image/png": "[encoded data removed]",
      "text/plain": [
       "<Figure size 432x288 with 1 Axes>"
      ]
     },
     "metadata": {
      "needs_background": "light"
     },
     "output_type": "display_data"
    }
   ],
   "source": [
    "# hiển thị đồ thị dữ liệu test (xanh) và đường dự đoán đã học được (đỏ)\n",
    "plt.scatter(scalerx.inverse_transform(X_test), scalery.inverse_transform(y_test)) \n",
    "plt.plot(scalerx.inverse_transform(X_test), scalery.inverse_transform(y_hat), 'r')\n",
    "plt.xlabel('House feature: RM')\n",
    "plt.ylabel('Price')\n",
    "plt.show()"
   ]
  },
  {
   "cell_type": "code",
   "execution_count": 22,
   "metadata": {},
   "outputs": [
    {
     "name": "stdout",
     "output_type": "stream",
     "text": [
      "[[0.7190214 ]\n",
      " [0.00251468]]\n"
     ]
    }
   ],
   "source": [
    "# in weight học được w1, w0. Khá sát với weight học được bằng cộng cụ sklearn\n",
    "mymodel.print_weight()"
   ]
  },
  {
   "cell_type": "code",
   "execution_count": 23,
   "metadata": {},
   "outputs": [
    {
     "ename": "NameError",
     "evalue": "name 'pd' is not defined",
     "output_type": "error",
     "traceback": [
      "\u001b[1;31m---------------------------------------------------------------------------\u001b[0m",
      "\u001b[1;31mNameError\u001b[0m                                 Traceback (most recent call last)",
      "\u001b[1;32m<ipython-input-23-599567e13795>\u001b[0m in \u001b[0;36m<module>\u001b[1;34m\u001b[0m\n\u001b[0;32m      1\u001b[0m \u001b[0mbostondb\u001b[0m \u001b[1;33m=\u001b[0m \u001b[0mload_boston\u001b[0m\u001b[1;33m(\u001b[0m\u001b[1;33m)\u001b[0m\u001b[1;33m\u001b[0m\u001b[1;33m\u001b[0m\u001b[0m\n\u001b[0;32m      2\u001b[0m \u001b[0mX\u001b[0m \u001b[1;33m=\u001b[0m \u001b[0mbostondb\u001b[0m\u001b[1;33m.\u001b[0m\u001b[0mdata\u001b[0m\u001b[1;33m\u001b[0m\u001b[1;33m\u001b[0m\u001b[0m\n\u001b[1;32m----> 3\u001b[1;33m \u001b[0mbos\u001b[0m \u001b[1;33m=\u001b[0m \u001b[0mpd\u001b[0m\u001b[1;33m.\u001b[0m\u001b[0mDataFrame\u001b[0m\u001b[1;33m(\u001b[0m\u001b[0mX\u001b[0m\u001b[1;33m)\u001b[0m\u001b[1;33m\u001b[0m\u001b[1;33m\u001b[0m\u001b[0m\n\u001b[0m\u001b[0;32m      4\u001b[0m \u001b[0mbos\u001b[0m\u001b[1;33m.\u001b[0m\u001b[0mcolumns\u001b[0m \u001b[1;33m=\u001b[0m \u001b[0mbostondb\u001b[0m\u001b[1;33m.\u001b[0m\u001b[0mfeature_names\u001b[0m\u001b[1;33m\u001b[0m\u001b[1;33m\u001b[0m\u001b[0m\n\u001b[0;32m      5\u001b[0m \u001b[0mprint\u001b[0m\u001b[1;33m(\u001b[0m\u001b[0mbos\u001b[0m\u001b[1;33m.\u001b[0m\u001b[0minfo\u001b[0m\u001b[1;33m(\u001b[0m\u001b[1;33m)\u001b[0m\u001b[1;33m)\u001b[0m\u001b[1;33m\u001b[0m\u001b[1;33m\u001b[0m\u001b[0m\n",
      "\u001b[1;31mNameError\u001b[0m: name 'pd' is not defined"
     ]
    }
   ],
   "source": [
    "bostondb = load_boston()\n",
    "X = bostondb.data\n",
    "bos = pd.DataFrame(X)\n",
    "bos.columns = bostondb.feature_names\n",
    "print(bos.info())\n",
    "bos.head()\n",
    "\n",
    "# bostondb"
   ]
  },
  {
   "cell_type": "code",
   "execution_count": null,
   "metadata": {},
   "outputs": [],
   "source": []
  }
 ],
 "metadata": {
  "kernelspec": {
   "display_name": "Python 3",
   "language": "python",
   "name": "python3"
  },
  "language_info": {
   "codemirror_mode": {
    "name": "ipython",
    "version": 3
   },
   "file_extension": ".py",
   "mimetype": "text/x-python",
   "name": "python",
   "nbconvert_exporter": "python",
   "pygments_lexer": "ipython3",
   "version": "3.7.4"
  }
 },
 "nbformat": 4,
 "nbformat_minor": 4
}
